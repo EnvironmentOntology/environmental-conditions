{
 "cells": [
  {
   "cell_type": "markdown",
   "metadata": {},
   "source": [
    "## Association between chemical roles and exposure symptoms"
   ]
  },
  {
   "cell_type": "code",
   "execution_count": 1,
   "metadata": {},
   "outputs": [
    {
     "name": "stderr",
     "output_type": "stream",
     "text": [
      "/Users/cjm/repos/environmental-conditions-and-exposures/src/resources/wikidata/venv/lib/python3.5/site-packages/cachier/mongo_core.py:24: UserWarning: Cachier warning: pymongo was not found. MongoDB cores will not work.\n",
      "  \"Cachier warning: pymongo was not found. MongoDB cores will not work.\")\n"
     ]
    }
   ],
   "source": [
    "from ontobio.ontol_factory import OntologyFactory\n"
   ]
  },
  {
   "cell_type": "code",
   "execution_count": 2,
   "metadata": {
    "collapsed": true
   },
   "outputs": [],
   "source": [
    "ofa = OntologyFactory()"
   ]
  },
  {
   "cell_type": "code",
   "execution_count": 3,
   "metadata": {
    "collapsed": true
   },
   "outputs": [],
   "source": [
    "## See the makefile\n",
    "## This is the combination of ECTO + Wikidata exposure-symptom associtions, in obo-json format\n",
    "ont = ofa.create('merged.json')\n"
   ]
  },
  {
   "cell_type": "code",
   "execution_count": 5,
   "metadata": {
    "collapsed": true
   },
   "outputs": [],
   "source": [
    "HAS_EXPOSURE_STIMULUS = 'RO:0002309'\n",
    "HAS_ROLE = 'RO:0000087'\n",
    "AFFECTS = 'RO:0002304'"
   ]
  },
  {
   "cell_type": "code",
   "execution_count": 7,
   "metadata": {},
   "outputs": [
    {
     "data": {
      "text/plain": [
       "[('http://purl.obolibrary.org/obo/ECTO_0001443',\n",
       "  'exposure to dicamba',\n",
       "  'CHEBI:81856'),\n",
       " ('http://purl.obolibrary.org/obo/ECTO_0000065',\n",
       "  'exposure to bodily fluid',\n",
       "  'ENVO:02000019'),\n",
       " ('http://purl.obolibrary.org/obo/ECTO_0000455',\n",
       "  \"exposure to 3,3',4,4',5-pentachlorobiphenyl\",\n",
       "  'CHEBI:34317'),\n",
       " ('http://purl.obolibrary.org/obo/ECTO_0001846',\n",
       "  'exposure to paraldehyde',\n",
       "  'CHEBI:27909'),\n",
       " ('http://purl.obolibrary.org/obo/ECTO_0000413',\n",
       "  'exposure to arsenite ion',\n",
       "  'CHEBI:22633'),\n",
       " ('http://purl.obolibrary.org/obo/ECTO_0001348',\n",
       "  'exposure to fenoxycarb',\n",
       "  'CHEBI:5009'),\n",
       " ('http://purl.obolibrary.org/obo/ECTO_0002198',\n",
       "  'Dimethoxymethane exposure',\n",
       "  'CHEBI:48341'),\n",
       " ('http://purl.obolibrary.org/obo/ECTO_0001263',\n",
       "  'exposure to tris(2-butoxyethyl) phosphate',\n",
       "  'CHEBI:35038'),\n",
       " ('http://purl.obolibrary.org/obo/ECTO_0002233',\n",
       "  'exposure to phosphoric acid',\n",
       "  'CHEBI:26078'),\n",
       " ('http://purl.obolibrary.org/obo/ECTO_0001234',\n",
       "  'exposure to 2,3,4,5,6-pentachlorobiphenyl',\n",
       "  'CHEBI:34219')]"
      ]
     },
     "execution_count": 7,
     "metadata": {},
     "output_type": "execute_result"
    }
   ],
   "source": [
    "## Iterate through graph, making tuples that\n",
    "## associate exposures to symtoms via AFFECTS\n",
    "## TODO: make a convenience method in ontobio for this\n",
    "tuples = []\n",
    "\n",
    "isa = ont.subontology(relations=['subClassOf'])\n",
    "all_symptoms = set()\n",
    "\n",
    "for ex in ont.nodes():\n",
    "    exl = ont.label(ex)\n",
    "    \n",
    "    # hacky way to get rid of additional route-specific classes\n",
    "    if exl is None:\n",
    "        continue\n",
    "    symptoms = ont.parents(ex, [AFFECTS])\n",
    "    all_symptoms.update(symptoms)\n",
    "    for ph in symptoms:\n",
    "        tuples.append( (ex,exl,ph) )\n",
    "    roles = set()\n",
    "    for ld in ont.logical_definitions(ex):\n",
    "        for _,chem in ld.restrictions:\n",
    "            tuples.append( (ex,exl,chem) )\n",
    "    \n",
    "## check results   \n",
    "tuples[0:10]"
   ]
  },
  {
   "cell_type": "code",
   "execution_count": 9,
   "metadata": {
    "collapsed": true
   },
   "outputs": [],
   "source": [
    "## Make annotationSet object\n",
    "from ontobio.assoc_factory import AssociationSetFactory\n",
    "afa = AssociationSetFactory()\n",
    "aset = afa.create_from_tuples(tuples, ontology=ont)"
   ]
  },
  {
   "cell_type": "code",
   "execution_count": 11,
   "metadata": {},
   "outputs": [
    {
     "data": {
      "text/plain": [
       "['http://purl.obolibrary.org/obo/Wikidata_Q6402731',\n",
       " 'http://purl.obolibrary.org/obo/Wikidata_Q21120220',\n",
       " 'http://purl.obolibrary.org/obo/Wikidata_Q192120',\n",
       " 'http://purl.obolibrary.org/obo/Wikidata_Q2266426',\n",
       " 'http://purl.obolibrary.org/obo/Wikidata_Q568321',\n",
       " 'http://purl.obolibrary.org/obo/Wikidata_Q133244',\n",
       " 'http://purl.obolibrary.org/obo/Wikidata_Q950591',\n",
       " 'http://purl.obolibrary.org/obo/Wikidata_Q474187',\n",
       " 'http://purl.obolibrary.org/obo/Wikidata_Q1349821',\n",
       " 'http://purl.obolibrary.org/obo/Wikidata_Q5445',\n",
       " 'http://purl.obolibrary.org/obo/Wikidata_Q21120214',\n",
       " 'CHEBI:51398']"
      ]
     },
     "execution_count": 11,
     "metadata": {},
     "output_type": "execute_result"
    }
   ],
   "source": [
    "## Check results\n",
    "aset.annotations('http://purl.obolibrary.org/obo/ECTO_0001731')"
   ]
  },
  {
   "cell_type": "code",
   "execution_count": 12,
   "metadata": {},
   "outputs": [
    {
     "data": {
      "text/plain": [
       "'CHEBI:50906'"
      ]
     },
     "execution_count": 12,
     "metadata": {},
     "output_type": "execute_result"
    }
   ],
   "source": [
    "## Get root of role ontology\n",
    "[role] = ont.search('role')\n",
    "role"
   ]
  },
  {
   "cell_type": "code",
   "execution_count": 30,
   "metadata": {},
   "outputs": [
    {
     "name": "stdout",
     "output_type": "stream",
     "text": [
      "3.54E-05 :: CHEBI:22153 acaricide -> http://purl.obolibrary.org/obo/Wikidata_Q3002092 abdominal cramps\n",
      "3.54E-05 :: CHEBI:22153 acaricide -> http://purl.obolibrary.org/obo/Wikidata_Q4424146 salivation\n",
      "1.19E-04 :: CHEBI:22153 acaricide -> http://purl.obolibrary.org/obo/Wikidata_Q596899 miosis\n",
      "3.48E-04 :: CHEBI:22153 acaricide -> http://purl.obolibrary.org/obo/Wikidata_Q21109840 chest tightness\n",
      "7.25E-04 :: CHEBI:22153 acaricide -> http://purl.obolibrary.org/obo/Wikidata_Q40878 diarrhea\n",
      "3.34E-03 :: CHEBI:22153 acaricide -> http://purl.obolibrary.org/obo/Wikidata_Q1324592 laryngospasm\n",
      "2.75E-03 :: CHEBI:63248 oxidising agent -> http://purl.obolibrary.org/obo/Wikidata_Q2681162 eye injury\n",
      "1.71E-04 :: CHEBI:76760 EC 3.1.* (ester hydrolase) inhibitor -> http://purl.obolibrary.org/obo/Wikidata_Q3002092 abdominal cramps\n",
      "1.71E-04 :: CHEBI:76760 EC 3.1.* (ester hydrolase) inhibitor -> http://purl.obolibrary.org/obo/Wikidata_Q4424146 salivation\n",
      "4.29E-04 :: CHEBI:76760 EC 3.1.* (ester hydrolase) inhibitor -> http://purl.obolibrary.org/obo/Wikidata_Q596899 miosis\n",
      "1.25E-03 :: CHEBI:76760 EC 3.1.* (ester hydrolase) inhibitor -> http://purl.obolibrary.org/obo/Wikidata_Q21109840 chest tightness\n",
      "3.36E-03 :: CHEBI:76760 EC 3.1.* (ester hydrolase) inhibitor -> http://purl.obolibrary.org/obo/Wikidata_Q40878 diarrhea\n",
      "8.03E-05 :: CHEBI:76773 EC 3.1.1.* (carboxylic ester hydrolase) inhibitor -> http://purl.obolibrary.org/obo/Wikidata_Q3002092 abdominal cramps\n",
      "8.03E-05 :: CHEBI:76773 EC 3.1.1.* (carboxylic ester hydrolase) inhibitor -> http://purl.obolibrary.org/obo/Wikidata_Q4424146 salivation\n",
      "2.34E-04 :: CHEBI:76773 EC 3.1.1.* (carboxylic ester hydrolase) inhibitor -> http://purl.obolibrary.org/obo/Wikidata_Q596899 miosis\n",
      "6.83E-04 :: CHEBI:76773 EC 3.1.1.* (carboxylic ester hydrolase) inhibitor -> http://purl.obolibrary.org/obo/Wikidata_Q21109840 chest tightness\n",
      "1.61E-03 :: CHEBI:76773 EC 3.1.1.* (carboxylic ester hydrolase) inhibitor -> http://purl.obolibrary.org/obo/Wikidata_Q40878 diarrhea\n",
      "3.30E-03 :: CHEBI:50905 teratogenic agent -> http://purl.obolibrary.org/obo/Wikidata_Q21111972 eye irritation\n",
      "1.18E-05 :: CHEBI:38462 EC 3.1.1.7 (acetylcholinesterase) inhibitor -> http://purl.obolibrary.org/obo/Wikidata_Q3002092 abdominal cramps\n",
      "1.18E-05 :: CHEBI:38462 EC 3.1.1.7 (acetylcholinesterase) inhibitor -> http://purl.obolibrary.org/obo/Wikidata_Q4424146 salivation\n",
      "4.76E-05 :: CHEBI:38462 EC 3.1.1.7 (acetylcholinesterase) inhibitor -> http://purl.obolibrary.org/obo/Wikidata_Q596899 miosis\n",
      "1.40E-04 :: CHEBI:38462 EC 3.1.1.7 (acetylcholinesterase) inhibitor -> http://purl.obolibrary.org/obo/Wikidata_Q21109840 chest tightness\n",
      "2.46E-04 :: CHEBI:38462 EC 3.1.1.7 (acetylcholinesterase) inhibitor -> http://purl.obolibrary.org/obo/Wikidata_Q40878 diarrhea\n",
      "1.63E-03 :: CHEBI:38462 EC 3.1.1.7 (acetylcholinesterase) inhibitor -> http://purl.obolibrary.org/obo/Wikidata_Q1324592 laryngospasm\n",
      "2.08E-03 :: CHEBI:38999 GABA-gated chloride channel antagonist -> http://purl.obolibrary.org/obo/Wikidata_Q223907 tremor\n",
      "1.60E-04 :: CHEBI:24852 insecticide -> http://purl.obolibrary.org/obo/Wikidata_Q40878 diarrhea\n",
      "1.85E-03 :: CHEBI:24852 insecticide -> http://purl.obolibrary.org/obo/Wikidata_Q3002092 abdominal cramps\n",
      "1.85E-03 :: CHEBI:24852 insecticide -> http://purl.obolibrary.org/obo/Wikidata_Q4424146 salivation\n",
      "3.15E-03 :: CHEBI:24852 insecticide -> http://purl.obolibrary.org/obo/Wikidata_Q596899 miosis\n"
     ]
    }
   ],
   "source": [
    "## Enrichment test, against symptoms\n",
    "def etest(r):\n",
    "    sample = aset.query([r])\n",
    "    results = aset.enrichment_test(sample, threshold=0.005, labels=True, hypotheses=all_symptoms)\n",
    "    for result in results:\n",
    "        print('{:.2E} :: {} {} -> {} {}'.format(result['p'], r, ont.label(r), result['c'], result['n']))\n",
    "        \n",
    "## test all chemical roles\n",
    "for r in isa.descendants(role):\n",
    "    etest(r)"
   ]
  },
  {
   "cell_type": "code",
   "execution_count": 25,
   "metadata": {},
   "outputs": [
    {
     "data": {
      "text/plain": [
       "4314"
      ]
     },
     "execution_count": 25,
     "metadata": {},
     "output_type": "execute_result"
    }
   ],
   "source": [
    "## get all chems\n",
    "[e] = ont.search('chemical entity')\n",
    "chems = isa.descendants(e)\n",
    "len(chems)"
   ]
  },
  {
   "cell_type": "code",
   "execution_count": 32,
   "metadata": {},
   "outputs": [],
   "source": [
    "## test all chemical entities\n",
    "#for r in chems:\n",
    "#    etest(r)"
   ]
  },
  {
   "cell_type": "code",
   "execution_count": 34,
   "metadata": {},
   "outputs": [
    {
     "name": "stdout",
     "output_type": "stream",
     "text": [
      "1.94E-06 :: http://purl.obolibrary.org/obo/Wikidata_Q568321 anoxia -> CHEBI:51396 dinitrobenzene\n",
      "6.74E-05 :: http://purl.obolibrary.org/obo/Wikidata_Q568321 anoxia -> CHEBI:48109 nitrobenzenes\n",
      "1.58E-07 :: http://purl.obolibrary.org/obo/Wikidata_Q2266426 visual disturbance -> CHEBI:51396 dinitrobenzene\n",
      "5.53E-06 :: http://purl.obolibrary.org/obo/Wikidata_Q2266426 visual disturbance -> CHEBI:48109 nitrobenzenes\n",
      "6.77E-07 :: http://purl.obolibrary.org/obo/Wikidata_Q5445 anemia -> CHEBI:51396 dinitrobenzene\n",
      "2.36E-05 :: http://purl.obolibrary.org/obo/Wikidata_Q5445 anemia -> CHEBI:48109 nitrobenzenes\n",
      "1.21E-04 :: http://purl.obolibrary.org/obo/Wikidata_Q5445 anemia -> CHEBI:35716 C-nitro compound\n",
      "1.21E-04 :: http://purl.obolibrary.org/obo/Wikidata_Q5445 anemia -> CHEBI:136622 aci-nitro compound\n",
      "1.32E-04 :: http://purl.obolibrary.org/obo/Wikidata_Q5445 anemia -> CHEBI:25750 oxime\n",
      "2.16E-04 :: http://purl.obolibrary.org/obo/Wikidata_Q5445 anemia -> CHEBI:29785 nitro group\n",
      "2.16E-04 :: http://purl.obolibrary.org/obo/Wikidata_Q5445 anemia -> CHEBI:35715 nitro compound\n",
      "4.38E-04 :: http://purl.obolibrary.org/obo/Wikidata_Q5445 anemia -> CHEBI:51144 nitrogen group\n",
      "3.96E-08 :: http://purl.obolibrary.org/obo/Wikidata_Q950591 scotoma -> CHEBI:51396 dinitrobenzene\n",
      "1.38E-06 :: http://purl.obolibrary.org/obo/Wikidata_Q950591 scotoma -> CHEBI:48109 nitrobenzenes\n",
      "1.59E-04 :: http://purl.obolibrary.org/obo/Wikidata_Q3002092 abdominal cramps -> CHEBI:25710 organophosphorus compound\n",
      "1.91E-04 :: http://purl.obolibrary.org/obo/Wikidata_Q3002092 abdominal cramps -> CHEBI:36359 phosphorus oxoacid derivative\n",
      "2.96E-04 :: http://purl.obolibrary.org/obo/Wikidata_Q3002092 abdominal cramps -> CHEBI:33457 phosphorus oxoacid\n",
      "2.96E-04 :: http://purl.obolibrary.org/obo/Wikidata_Q3002092 abdominal cramps -> CHEBI:33461 phosphorus oxoanion\n",
      "3.21E-04 :: http://purl.obolibrary.org/obo/Wikidata_Q3002092 abdominal cramps -> CHEBI:36360 phosphorus oxoacids and derivatives\n",
      "3.48E-04 :: http://purl.obolibrary.org/obo/Wikidata_Q3002092 abdominal cramps -> CHEBI:79387 trivalent inorganic anion\n",
      "1.25E-06 :: http://purl.obolibrary.org/obo/Wikidata_Q6402731 dysgeusia -> CHEBI:51396 dinitrobenzene\n",
      "4.35E-05 :: http://purl.obolibrary.org/obo/Wikidata_Q6402731 dysgeusia -> CHEBI:48109 nitrobenzenes\n",
      "8.95E-05 :: http://purl.obolibrary.org/obo/Wikidata_Q192120 cyanosis -> CHEBI:51396 dinitrobenzene\n",
      "4.52E-06 :: http://purl.obolibrary.org/obo/Wikidata_Q133244 jaundice -> CHEBI:51396 dinitrobenzene\n",
      "1.57E-04 :: http://purl.obolibrary.org/obo/Wikidata_Q133244 jaundice -> CHEBI:48109 nitrobenzenes\n",
      "1.21E-04 :: http://purl.obolibrary.org/obo/Wikidata_Q4424146 salivation -> CHEBI:25710 organophosphorus compound\n",
      "1.46E-04 :: http://purl.obolibrary.org/obo/Wikidata_Q4424146 salivation -> CHEBI:36359 phosphorus oxoacid derivative\n",
      "2.26E-04 :: http://purl.obolibrary.org/obo/Wikidata_Q4424146 salivation -> CHEBI:33457 phosphorus oxoacid\n",
      "2.26E-04 :: http://purl.obolibrary.org/obo/Wikidata_Q4424146 salivation -> CHEBI:33461 phosphorus oxoanion\n",
      "2.45E-04 :: http://purl.obolibrary.org/obo/Wikidata_Q4424146 salivation -> CHEBI:36360 phosphorus oxoacids and derivatives\n",
      "2.66E-04 :: http://purl.obolibrary.org/obo/Wikidata_Q4424146 salivation -> CHEBI:79387 trivalent inorganic anion\n",
      "4.22E-04 :: http://purl.obolibrary.org/obo/Wikidata_Q4424146 salivation -> CHEBI:28659 phosphorus atom\n",
      "4.22E-04 :: http://purl.obolibrary.org/obo/Wikidata_Q4424146 salivation -> CHEBI:26082 phosphorus molecular entity\n",
      "4.22E-04 :: http://purl.obolibrary.org/obo/Wikidata_Q4424146 salivation -> CHEBI:33408 pnictogen oxoacid\n",
      "4.87E-04 :: http://purl.obolibrary.org/obo/Wikidata_Q4424146 salivation -> CHEBI:33459 pnictogen oxoanion\n",
      "3.96E-08 :: http://purl.obolibrary.org/obo/Wikidata_Q21120220 dry throat -> CHEBI:51396 dinitrobenzene\n",
      "1.38E-06 :: http://purl.obolibrary.org/obo/Wikidata_Q21120220 dry throat -> CHEBI:48109 nitrobenzenes\n",
      "3.96E-08 :: http://purl.obolibrary.org/obo/Wikidata_Q474187 thirst -> CHEBI:51396 dinitrobenzene\n",
      "1.38E-06 :: http://purl.obolibrary.org/obo/Wikidata_Q474187 thirst -> CHEBI:48109 nitrobenzenes\n",
      "2.54E-04 :: http://purl.obolibrary.org/obo/Wikidata_Q1349821 hepatotoxicity -> CHEBI:51396 dinitrobenzene\n",
      "4.06E-04 :: http://purl.obolibrary.org/obo/Wikidata_Q596899 miosis -> CHEBI:25710 organophosphorus compound\n",
      "4.71E-04 :: http://purl.obolibrary.org/obo/Wikidata_Q596899 miosis -> CHEBI:36359 phosphorus oxoacid derivative\n",
      "3.96E-08 :: http://purl.obolibrary.org/obo/Wikidata_Q21120214 burning mouth -> CHEBI:51396 dinitrobenzene\n",
      "1.38E-06 :: http://purl.obolibrary.org/obo/Wikidata_Q21120214 burning mouth -> CHEBI:48109 nitrobenzenes\n"
     ]
    }
   ],
   "source": [
    "## Test against chemicals\n",
    "def etest2(r):\n",
    "    sample = aset.query([r])\n",
    "    results = aset.enrichment_test(sample, threshold=0.0005, hypotheses=chems, labels=True)\n",
    "    for result in results:\n",
    "        if result['c'] != r:\n",
    "            print('{:.2E} :: {} {} -> {} {}'.format(result['p'], r, ont.label(r), result['c'], result['n']))\n",
    "        \n",
    "for s in all_symptoms:\n",
    "    etest2(s)"
   ]
  }
 ],
 "metadata": {
  "kernelspec": {
   "display_name": "Python 3",
   "language": "python",
   "name": "python3"
  },
  "language_info": {
   "codemirror_mode": {
    "name": "ipython",
    "version": 3
   },
   "file_extension": ".py",
   "mimetype": "text/x-python",
   "name": "python",
   "nbconvert_exporter": "python",
   "pygments_lexer": "ipython3",
   "version": "3.5.2"
  }
 },
 "nbformat": 4,
 "nbformat_minor": 2
}
