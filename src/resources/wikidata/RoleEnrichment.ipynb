{
 "cells": [
  {
   "cell_type": "code",
   "execution_count": 1,
   "metadata": {
    "collapsed": true
   },
   "outputs": [],
   "source": [
    "from ontobio.ontol_factory import OntologyFactory\n"
   ]
  },
  {
   "cell_type": "code",
   "execution_count": 4,
   "metadata": {
    "collapsed": true
   },
   "outputs": [],
   "source": [
    "ofa = OntologyFactory()"
   ]
  },
  {
   "cell_type": "code",
   "execution_count": 19,
   "metadata": {},
   "outputs": [],
   "source": [
    "ont = ofa.create('merged.json')\n"
   ]
  },
  {
   "cell_type": "code",
   "execution_count": 6,
   "metadata": {
    "collapsed": true
   },
   "outputs": [],
   "source": [
    "#ecto = ofa.create('ecto.json')"
   ]
  },
  {
   "cell_type": "code",
   "execution_count": 20,
   "metadata": {
    "collapsed": true
   },
   "outputs": [],
   "source": [
    "HAS_EXPOSURE_STIMULUS = 'RO:0002309'\n",
    "HAS_ROLE = 'RO:0000087'"
   ]
  },
  {
   "cell_type": "code",
   "execution_count": 9,
   "metadata": {
    "collapsed": true
   },
   "outputs": [],
   "source": [
    "#exo = ofa.create('exposure-all-ecto.json')"
   ]
  },
  {
   "cell_type": "code",
   "execution_count": 53,
   "metadata": {},
   "outputs": [
    {
     "data": {
      "text/plain": [
       "[('UBERON:0005177', 'trunk region element', 'UBERON:0002100'),\n",
       " ('http://purl.obolibrary.org/obo/ECTO_0002261',\n",
       "  'tetrahydrofuran exposure',\n",
       "  'CHEBI:26911'),\n",
       " ('http://purl.obolibrary.org/obo/ECTO_0001482',\n",
       "  'exposure to iooxitalamic acid',\n",
       "  'CHEBI:83517'),\n",
       " ('http://purl.obolibrary.org/obo/ECTO_0001848',\n",
       "  'exposure to p-nitrophenyl group',\n",
       "  'CHEBI:61595'),\n",
       " ('http://purl.obolibrary.org/obo/ECTO_0001276',\n",
       "  'exposure to (trifluoromethyl)benzene',\n",
       "  'CHEBI:36810'),\n",
       " ('http://purl.obolibrary.org/obo/ECTO_0000225',\n",
       "  'exposure to lapatinib',\n",
       "  'CHEBI:49603'),\n",
       " ('http://purl.obolibrary.org/obo/ECTO_0001713',\n",
       "  'Dicyclopentadiene exposure',\n",
       "  'CHEBI:34695'),\n",
       " ('http://purl.obolibrary.org/obo/ECTO_0001150',\n",
       "  'prenatal exposure to chemical entity',\n",
       "  'UBERON:0000068'),\n",
       " ('http://purl.obolibrary.org/obo/ECTO_0001150',\n",
       "  'prenatal exposure to chemical entity',\n",
       "  'http://purl.obolibrary.org/obo/ECTO_0000231'),\n",
       " ('http://purl.obolibrary.org/obo/ECTO_0000322',\n",
       "  'exposure to quetiapine',\n",
       "  'CHEBI:8707')]"
      ]
     },
     "execution_count": 53,
     "metadata": {},
     "output_type": "execute_result"
    }
   ],
   "source": [
    "tuples = []\n",
    "\n",
    "isa = ont.subontology(relations=['subClassOf'])\n",
    "all_symptoms = set()\n",
    "\n",
    "for ex in ont.nodes():\n",
    "    exl = ont.label(ex)\n",
    "    \n",
    "    # hacky way to get rid of additional route-specific classes\n",
    "    if exl is None:\n",
    "        continue\n",
    "    symptoms = ont.parents(ex, ['RO:0002304'])\n",
    "    all_symptoms.update(symptoms)\n",
    "    for ph in symptoms:\n",
    "        tuples.append( (ex,exl,ph) )\n",
    "    roles = set()\n",
    "    for ld in ont.logical_definitions(ex):\n",
    "        for _,chem in ld.restrictions:\n",
    "            tuples.append( (ex,exl,chem) )\n",
    "            #print('CHEM= {}'.format(chem))\n",
    "    \n",
    "    \n",
    "tuples[0:10]"
   ]
  },
  {
   "cell_type": "code",
   "execution_count": 54,
   "metadata": {},
   "outputs": [],
   "source": [
    "from ontobio.assoc_factory import AssociationSetFactory\n",
    "afa = AssociationSetFactory()\n"
   ]
  },
  {
   "cell_type": "code",
   "execution_count": 55,
   "metadata": {},
   "outputs": [],
   "source": [
    "aset = afa.create_from_tuples(tuples, ontology=ont)"
   ]
  },
  {
   "cell_type": "code",
   "execution_count": 56,
   "metadata": {},
   "outputs": [
    {
     "data": {
      "text/plain": [
       "['http://purl.obolibrary.org/obo/Wikidata_Q568321',\n",
       " 'http://purl.obolibrary.org/obo/Wikidata_Q5445',\n",
       " 'http://purl.obolibrary.org/obo/Wikidata_Q21120220',\n",
       " 'http://purl.obolibrary.org/obo/Wikidata_Q21120214',\n",
       " 'http://purl.obolibrary.org/obo/Wikidata_Q192120',\n",
       " 'http://purl.obolibrary.org/obo/Wikidata_Q2266426',\n",
       " 'http://purl.obolibrary.org/obo/Wikidata_Q133244',\n",
       " 'http://purl.obolibrary.org/obo/Wikidata_Q474187',\n",
       " 'http://purl.obolibrary.org/obo/Wikidata_Q6402731',\n",
       " 'http://purl.obolibrary.org/obo/Wikidata_Q1349821',\n",
       " 'http://purl.obolibrary.org/obo/Wikidata_Q950591',\n",
       " 'CHEBI:51398']"
      ]
     },
     "execution_count": 56,
     "metadata": {},
     "output_type": "execute_result"
    }
   ],
   "source": [
    "aset.annotations('http://purl.obolibrary.org/obo/ECTO_0001731')"
   ]
  },
  {
   "cell_type": "code",
   "execution_count": 57,
   "metadata": {},
   "outputs": [
    {
     "data": {
      "text/plain": [
       "'CHEBI:50906'"
      ]
     },
     "execution_count": 57,
     "metadata": {},
     "output_type": "execute_result"
    }
   ],
   "source": [
    "[role] = ont.search('role')\n",
    "role"
   ]
  },
  {
   "cell_type": "code",
   "execution_count": 59,
   "metadata": {},
   "outputs": [
    {
     "name": "stdout",
     "output_type": "stream",
     "text": [
      "CHEBI:24852 insecticide -> http://purl.obolibrary.org/obo/Wikidata_Q40878 diarrhea 0.00015953418022636944\n",
      "CHEBI:24852 insecticide -> http://purl.obolibrary.org/obo/Wikidata_Q4424146 salivation 0.001854021535352299\n",
      "CHEBI:24852 insecticide -> http://purl.obolibrary.org/obo/Wikidata_Q3002092 abdominal cramps 0.001854021535352299\n",
      "CHEBI:24852 insecticide -> http://purl.obolibrary.org/obo/Wikidata_Q596899 miosis 0.003148051693509966\n",
      "CHEBI:76773 EC 3.1.1.* (carboxylic ester hydrolase) inhibitor -> http://purl.obolibrary.org/obo/Wikidata_Q4424146 salivation 8.03162483774844e-05\n",
      "CHEBI:76773 EC 3.1.1.* (carboxylic ester hydrolase) inhibitor -> http://purl.obolibrary.org/obo/Wikidata_Q3002092 abdominal cramps 8.03162483774844e-05\n",
      "CHEBI:76773 EC 3.1.1.* (carboxylic ester hydrolase) inhibitor -> http://purl.obolibrary.org/obo/Wikidata_Q596899 miosis 0.00023369747758478703\n",
      "CHEBI:76773 EC 3.1.1.* (carboxylic ester hydrolase) inhibitor -> http://purl.obolibrary.org/obo/Wikidata_Q21109840 chest tightness 0.000682930605607493\n",
      "CHEBI:76773 EC 3.1.1.* (carboxylic ester hydrolase) inhibitor -> http://purl.obolibrary.org/obo/Wikidata_Q40878 diarrhea 0.0016138121891298308\n",
      "CHEBI:76760 EC 3.1.* (ester hydrolase) inhibitor -> http://purl.obolibrary.org/obo/Wikidata_Q4424146 salivation 0.00017118117384040376\n",
      "CHEBI:76760 EC 3.1.* (ester hydrolase) inhibitor -> http://purl.obolibrary.org/obo/Wikidata_Q3002092 abdominal cramps 0.00017118117384040376\n",
      "CHEBI:76760 EC 3.1.* (ester hydrolase) inhibitor -> http://purl.obolibrary.org/obo/Wikidata_Q596899 miosis 0.0004290125484712156\n",
      "CHEBI:76760 EC 3.1.* (ester hydrolase) inhibitor -> http://purl.obolibrary.org/obo/Wikidata_Q21109840 chest tightness 0.0012479562109786262\n",
      "CHEBI:76760 EC 3.1.* (ester hydrolase) inhibitor -> http://purl.obolibrary.org/obo/Wikidata_Q40878 diarrhea 0.003358596497772514\n",
      "CHEBI:38462 EC 3.1.1.7 (acetylcholinesterase) inhibitor -> http://purl.obolibrary.org/obo/Wikidata_Q4424146 salivation 1.175764382187454e-05\n",
      "CHEBI:38462 EC 3.1.1.7 (acetylcholinesterase) inhibitor -> http://purl.obolibrary.org/obo/Wikidata_Q3002092 abdominal cramps 1.175764382187454e-05\n",
      "CHEBI:38462 EC 3.1.1.7 (acetylcholinesterase) inhibitor -> http://purl.obolibrary.org/obo/Wikidata_Q596899 miosis 4.760393089646853e-05\n",
      "CHEBI:38462 EC 3.1.1.7 (acetylcholinesterase) inhibitor -> http://purl.obolibrary.org/obo/Wikidata_Q21109840 chest tightness 0.00014019572821626192\n",
      "CHEBI:38462 EC 3.1.1.7 (acetylcholinesterase) inhibitor -> http://purl.obolibrary.org/obo/Wikidata_Q40878 diarrhea 0.0002459711476686658\n",
      "CHEBI:38462 EC 3.1.1.7 (acetylcholinesterase) inhibitor -> http://purl.obolibrary.org/obo/Wikidata_Q1324592 laryngospasm 0.0016251917918994148\n",
      "CHEBI:63248 oxidising agent -> http://purl.obolibrary.org/obo/Wikidata_Q2681162 eye injury 0.0027530609894159007\n",
      "CHEBI:22153 acaricide -> http://purl.obolibrary.org/obo/Wikidata_Q4424146 salivation 3.5411888338903086e-05\n",
      "CHEBI:22153 acaricide -> http://purl.obolibrary.org/obo/Wikidata_Q3002092 abdominal cramps 3.5411888338903086e-05\n",
      "CHEBI:22153 acaricide -> http://purl.obolibrary.org/obo/Wikidata_Q596899 miosis 0.00011859757026511744\n",
      "CHEBI:22153 acaricide -> http://purl.obolibrary.org/obo/Wikidata_Q21109840 chest tightness 0.00034784592542650973\n",
      "CHEBI:22153 acaricide -> http://purl.obolibrary.org/obo/Wikidata_Q40878 diarrhea 0.0007251915881478245\n",
      "CHEBI:22153 acaricide -> http://purl.obolibrary.org/obo/Wikidata_Q1324592 laryngospasm 0.0033352666477996355\n",
      "CHEBI:38999 GABA-gated chloride channel antagonist -> http://purl.obolibrary.org/obo/Wikidata_Q223907 tremor 0.0020774965899214444\n",
      "CHEBI:50905 teratogenic agent -> http://purl.obolibrary.org/obo/Wikidata_Q21111972 eye irritation 0.003298976463495437\n"
     ]
    }
   ],
   "source": [
    "def etest(r):\n",
    "    sample = aset.query([r])\n",
    "    results = aset.enrichment_test(sample, threshold=0.005, labels=True, hypotheses=all_symptoms)\n",
    "    for result in results:\n",
    "        print('{} {} -> {} {} {}'.format(r, ont.label(r), result['c'], result['n'], result['p']))\n",
    "        \n",
    "for r in isa.descendants(role):\n",
    "    etest(r)"
   ]
  },
  {
   "cell_type": "code",
   "execution_count": null,
   "metadata": {
    "collapsed": true
   },
   "outputs": [],
   "source": []
  }
 ],
 "metadata": {
  "kernelspec": {
   "display_name": "Python 3",
   "language": "python",
   "name": "python3"
  },
  "language_info": {
   "codemirror_mode": {
    "name": "ipython",
    "version": 3
   },
   "file_extension": ".py",
   "mimetype": "text/x-python",
   "name": "python",
   "nbconvert_exporter": "python",
   "pygments_lexer": "ipython3",
   "version": "3.5.2"
  }
 },
 "nbformat": 4,
 "nbformat_minor": 2
}
